{
 "cells": [
  {
   "cell_type": "code",
   "execution_count": 16,
   "id": "78688a6c-0ca0-4806-aaf7-e16824069d58",
   "metadata": {},
   "outputs": [
    {
     "name": "stdout",
     "output_type": "stream",
     "text": [
      "Title: Alien: Covenant\n",
      "Director: Ridley Scott\n",
      "Language: English\n",
      "Distributor: 20th Century Fox\n"
     ]
    }
   ],
   "source": [
    "\n",
    "class Movie:\n",
    "    def __init__(self, title, director, language, distributor):\n",
    "        self.title = title\n",
    "        self.director = director\n",
    "        self.language = language\n",
    "        self.distributor = distributor\n",
    "\n",
    "    def __str__(self):\n",
    "        return f\"Title: {self.title}\\n{self.director}\\nLanguage: {self.language}\\nDistributor: {self.distributor}\"\n",
    "        \n",
    "class Director:\n",
    "    def __init__(self, name):\n",
    "        self.name = name\n",
    "\n",
    "    def __str__(self):\n",
    "        return f\"Director: {self.name}\"\n",
    "    \n",
    "    director1 = Director(\"Ridley Scott\")    \n",
    "    movie1 = Movie(\"Alien: Covenant\", director1, \"English\", \"20th Century Fox\")    \n",
    "    \n",
    "    print(movie1)"
   ]
  },
  {
   "cell_type": "code",
   "execution_count": null,
   "id": "27599ef8-ba68-4701-8e47-fc38186bc0af",
   "metadata": {},
   "outputs": [],
   "source": []
  }
 ],
 "metadata": {
  "kernelspec": {
   "display_name": "Python 3 (ipykernel)",
   "language": "python",
   "name": "python3"
  },
  "language_info": {
   "codemirror_mode": {
    "name": "ipython",
    "version": 3
   },
   "file_extension": ".py",
   "mimetype": "text/x-python",
   "name": "python",
   "nbconvert_exporter": "python",
   "pygments_lexer": "ipython3",
   "version": "3.11.7"
  }
 },
 "nbformat": 4,
 "nbformat_minor": 5
}
