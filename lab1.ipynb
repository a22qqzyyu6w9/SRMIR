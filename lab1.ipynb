{
 "cells": [
  {
   "cell_type": "code",
   "execution_count": 4,
   "id": "53e714b6-bb7c-4815-b596-ab47d1ee3a1a",
   "metadata": {},
   "outputs": [],
   "source": [
    "import re"
   ]
  },
  {
   "cell_type": "code",
   "execution_count": 71,
   "id": "344617ba-1dde-4eea-8f02-5a9f4af1e26c",
   "metadata": {},
   "outputs": [
    {
     "name": "stdout",
     "output_type": "stream",
     "text": [
      "Regular expressions use the backslash character  to indicate special forms or to allow special characters to be used without invoking their special meaning This collides with Pythons usage of the same character for the same purpose in string literals for example to match a literal backslash one might have to write  as the pattern string because the regular expression must be  and each backslash must be expressed as  inside a regular Python string literal Also please note that any invalid escape sequences in Pythons usage of the backslash in string literals now generate a SyntaxWarning and in the future this will become a SyntaxError This behaviour will happen even if it is a valid escape sequence for a regular expression\n",
      "['Python', 'Python', 'any', 'Python', 'SyntaxWarning', 'SyntaxError']\n",
      "['use', 'the', 'the', 'for', 'the', 'for', 'one', 'the', 'the', 'and', 'any', 'the', 'now', 'and', 'the', 'for']\n",
      "['as', 'as']\n"
     ]
    }
   ],
   "source": [
    "# Task 1\n",
    "txt1 = \"Regular expressions use the backslash character ('\\') to indicate special forms or to allow special characters to be used without invoking their special meaning. This collides with Python’s usage of the same character for the same purpose in string literals; for example, to match a literal backslash, one might have to write '\\\\\\\\' as the pattern string, because the regular expression must be \\\\, and each backslash must be expressed as \\\\ inside a regular Python string literal. Also, please note that any invalid escape sequences in Python’s usage of the backslash in string literals now generate a SyntaxWarning and in the future this will become a SyntaxError. This behaviour will happen even if it is a valid escape sequence for a regular expression.\"\n",
    "x = re.sub(\"[^a-zA-Z0-9 ]\", \"\", txt1)\n",
    "print(x)\n",
    "\n",
    "y = re.findall(\"[a-zA-Z]*y[a-zA-Z]*\",txt1)\n",
    "print(y)\n",
    "\n",
    "m = re.findall(r'\\b\\w{3}\\b',txt1)\n",
    "print(m)\n",
    "\n",
    "z = re.findall(r'\\b[ab]\\w*s\\b',txt1)\n",
    "print(z)"
   ]
  },
  {
   "cell_type": "code",
   "execution_count": 96,
   "id": "bf6531e7-52b9-4d46-9d18-774d79c09db3",
   "metadata": {},
   "outputs": [
    {
     "name": "stdout",
     "output_type": "stream",
     "text": [
      "[1.2, 1995.0, 2002.0, 15.0, 2024.0]\n"
     ]
    },
    {
     "data": {
      "text/plain": [
       "6037.2"
      ]
     },
     "execution_count": 96,
     "metadata": {},
     "output_type": "execute_result"
    }
   ],
   "source": [
    "# Task 2\n",
    "txt2 = \"Despite monetary policy that was meant to stimulate the economy, Japan never really recovered, averaging just 1.2% in annual average real GDP growth between 1995 and 2002. — Katharina Buchholz, Forbes, 15 Feb. 2024 \"\n",
    "x = re.findall(r'\\b\\d+(?:\\.\\d+)?\\b',txt2)\n",
    "x_float = list()\n",
    "\n",
    "for i in x:\n",
    "    x_float.append(float(i))\n",
    "    \n",
    "print(x_float)\n",
    "sum(x_float)"
   ]
  },
  {
   "cell_type": "code",
   "execution_count": 135,
   "id": "d829dba2-a53e-40f3-aa29-18679cae16e1",
   "metadata": {},
   "outputs": [
    {
     "name": "stdout",
     "output_type": "stream",
     "text": [
      "\n",
      "txt2 = \"Despite monetary policy that was meant to stimulate the economy, Japan never really recovered, averaging just 1.2% in annual average real GDP growth between 1995 and 2002. — Katharina Buchholz, Forbes, 15 Feb. 2024 \"x = re.findall(r\\d+(?:\\.\\d+)',txt2)\n",
      "x_float = list()\n",
      "for i in x:\n",
      "    x_float.append(float(i))\n",
      "print(x_float)\n",
      "sum(x_float)\n"
     ]
    }
   ],
   "source": [
    "# Task 3\n",
    "txt3 = \"\"\"# Task 2\n",
    "txt2 = \"Despite monetary policy that was meant to stimulate the economy, Japan never really recovered, averaging just 1.2% in annual average real GDP growth between 1995 and 2002. — Katharina Buchholz, Forbes, 15 Feb. 2024 \"x = re.findall(r'\\b\\d+(?:\\.\\d+)?\\b',txt2)\n",
    "x_float = list()\n",
    "\n",
    "for i in x:\n",
    "    x_float.append(float(i))\n",
    "    \n",
    "print(x_float)\n",
    "sum(x_float)\"\"\"\n",
    "x = re.sub(r'#.*', '', txt3)\n",
    "y = re.sub(r'\\n\\s*\\n','\\n',x)\n",
    "print(y)"
   ]
  },
  {
   "cell_type": "code",
   "execution_count": 130,
   "id": "773430ff-0ace-4d19-8a1d-9986412e7b39",
   "metadata": {},
   "outputs": [
    {
     "name": "stdout",
     "output_type": "stream",
     "text": [
      "20-02-2024,20-12-1363\n"
     ]
    }
   ],
   "source": [
    "# Task 4\n",
    "txt4 = \"2024-02-20,1363-12-20\"\n",
    "x = re.sub(r'\\b(\\d{4})-(\\d{2})-(\\d{2})\\b',r'\\3-\\2-\\1',txt4)\n",
    "print(x)"
   ]
  }
 ],
 "metadata": {
  "kernelspec": {
   "display_name": "Python 3 (ipykernel)",
   "language": "python",
   "name": "python3"
  },
  "language_info": {
   "codemirror_mode": {
    "name": "ipython",
    "version": 3
   },
   "file_extension": ".py",
   "mimetype": "text/x-python",
   "name": "python",
   "nbconvert_exporter": "python",
   "pygments_lexer": "ipython3",
   "version": "3.11.7"
  }
 },
 "nbformat": 4,
 "nbformat_minor": 5
}
