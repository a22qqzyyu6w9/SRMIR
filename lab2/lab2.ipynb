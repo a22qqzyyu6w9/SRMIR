{
 "cells": [
  {
   "cell_type": "code",
   "execution_count": 3,
   "id": "69db3aa4-e385-41fe-a9cd-448642323395",
   "metadata": {},
   "outputs": [],
   "source": [
    "import re\n",
    "import requests"
   ]
  },
  {
   "cell_type": "code",
   "execution_count": 36,
   "id": "64970cde-a6fc-47a5-88da-ef007a48bda2",
   "metadata": {},
   "outputs": [
    {
     "name": "stdout",
     "output_type": "stream",
     "text": [
      "['<a href=\"/wiki/Christopher_Nolan\" title=\"Christopher Nolan\">Christopher Nolan</a>'] ['English'] ['Warner Bros. Pictures']\n"
     ]
    }
   ],
   "source": [
    "url = \"https://en.wikipedia.org/wiki/Inception\"\n",
    "\n",
    "director = re.findall(r'<th scope=\"row\"[^>]*>Directed by</th>\\s*<td[^>]*>(.*?)</td>', requests.get(url).text)\n",
    "language = re.findall(r'<th scope=\"row\"[^>]*>Language</th>\\s*<td[^>]*>(.*?)</td>', requests.get(url).text)\n",
    "run = re.findall(r'<th scope=\"row\"[^>]*>Distributed by</th>\\s*<td[^>]*>(.*?)</td>', requests.get(url).text)\n",
    "\n",
    "# Print extracted information\n",
    "print(director,language,run)"
   ]
  },
  {
   "cell_type": "code",
   "execution_count": 28,
   "id": "65cd250a-1964-40ae-9594-d4bce5f2ca8d",
   "metadata": {},
   "outputs": [
    {
     "name": "stdout",
     "output_type": "stream",
     "text": [
      "Release Date: 2010-07-08\n",
      "Director(s): ['Christopher Nolan']\n",
      "Genre: None\n"
     ]
    }
   ],
   "source": [
    "import re\n",
    "import requests\n",
    "\n",
    "# Fetch the HTML content from the Wikipedia URL\n",
    "url = \"https://en.wikipedia.org/wiki/Inception\"  # Example URL\n",
    "response = requests.get(url)\n",
    "html_content = response.text\n",
    "\n",
    "# Release Date\n",
    "release_date_match = re.search(r'<td[^>]*>.*?(\\d{4}-\\d{2}-\\d{2}).*?</td>', html_content, re.DOTALL)\n",
    "release_date = release_date_match.group(1).strip() if release_date_match else None\n",
    "\n",
    "# Director(s)\n",
    "director_matches = re.findall(r'<th scope=\"row\"[^>]*>Directed by</th>\\s*<td[^>]*>(.*?)</td>', html_content, re.DOTALL)\n",
    "directors = re.findall(r'<a href=\"/wiki/[^\"]+\" title=\"[^\"]+\">([^<]+)</a>', ''.join(director_matches))\n",
    "\n",
    "# Genre\n",
    "genre_match = re.search(r'<th scope=\"row\"[^>]*>Genre</th>\\s*<td[^>]*>(.*?)</td>', html_content, re.DOTALL)\n",
    "genre = genre_match.group(1).strip() if genre_match else None\n",
    "\n",
    "# Print extracted information\n",
    "print(\"Release Date:\", release_date)\n",
    "print(\"Director(s):\", directors)\n",
    "print(\"Genre:\", genre)\n"
   ]
  },
  {
   "cell_type": "code",
   "execution_count": null,
   "id": "1aa346cf-d0ec-446d-9b87-11d085c91309",
   "metadata": {},
   "outputs": [],
   "source": []
  }
 ],
 "metadata": {
  "kernelspec": {
   "display_name": "Python 3 (ipykernel)",
   "language": "python",
   "name": "python3"
  },
  "language_info": {
   "codemirror_mode": {
    "name": "ipython",
    "version": 3
   },
   "file_extension": ".py",
   "mimetype": "text/x-python",
   "name": "python",
   "nbconvert_exporter": "python",
   "pygments_lexer": "ipython3",
   "version": "3.11.7"
  }
 },
 "nbformat": 4,
 "nbformat_minor": 5
}
