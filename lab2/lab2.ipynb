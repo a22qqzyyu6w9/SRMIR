{
 "cells": [
  {
   "cell_type": "code",
   "execution_count": 2,
   "id": "69db3aa4-e385-41fe-a9cd-448642323395",
   "metadata": {},
   "outputs": [],
   "source": [
    "import re\n",
    "import requests"
   ]
  },
  {
   "cell_type": "code",
   "execution_count": 4,
   "id": "64970cde-a6fc-47a5-88da-ef007a48bda2",
   "metadata": {},
   "outputs": [
    {
     "name": "stdout",
     "output_type": "stream",
     "text": [
      "['<a href=\"/wiki/Ridley_Scott\" title=\"Ridley Scott\">Ridley Scott</a>'] ['English'] ['20th Century Fox']\n"
     ]
    }
   ],
   "source": [
    "url = \"https://en.wikipedia.org/wiki/Alien:_Covenant\"\n",
    "\n",
    "director = re.findall(r'<th scope=\"row\"[^>]*>Directed by</th>\\s*<td[^>]*>(.*?)</td>', requests.get(url).text)\n",
    "language = re.findall(r'<th scope=\"row\"[^>]*>Language</th>\\s*<td[^>]*>(.*?)</td>', requests.get(url).text)\n",
    "distributor = re.findall(r'<th scope=\"row\"[^>]*>Distributed by</th>\\s*<td[^>]*>(.*?)</td>', requests.get(url).text)\n",
    "\n",
    "# Print extracted information\n",
    "print(director,language,distributor)"
   ]
  },
  {
   "cell_type": "code",
   "execution_count": null,
   "id": "1aa346cf-d0ec-446d-9b87-11d085c91309",
   "metadata": {},
   "outputs": [],
   "source": []
  }
 ],
 "metadata": {
  "kernelspec": {
   "display_name": "Python 3 (ipykernel)",
   "language": "python",
   "name": "python3"
  },
  "language_info": {
   "codemirror_mode": {
    "name": "ipython",
    "version": 3
   },
   "file_extension": ".py",
   "mimetype": "text/x-python",
   "name": "python",
   "nbconvert_exporter": "python",
   "pygments_lexer": "ipython3",
   "version": "3.11.7"
  }
 },
 "nbformat": 4,
 "nbformat_minor": 5
}
