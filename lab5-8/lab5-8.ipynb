{
 "cells": [
  {
   "cell_type": "code",
   "execution_count": 1,
   "id": "f61f1175",
   "metadata": {},
   "outputs": [],
   "source": [
    "import sqlite3\n",
    "con = sqlite3.connect(\"phones.db\")\n",
    "cur = con.cursor()"
   ]
  },
  {
   "cell_type": "code",
   "execution_count": 2,
   "id": "1ad28d3b",
   "metadata": {},
   "outputs": [
    {
     "ename": "IndentationError",
     "evalue": "unexpected indent (560920834.py, line 4)",
     "output_type": "error",
     "traceback": [
      "\u001b[1;36m  Cell \u001b[1;32mIn[2], line 4\u001b[1;36m\u001b[0m\n\u001b[1;33m    movie {\u001b[0m\n\u001b[1;37m    ^\u001b[0m\n\u001b[1;31mIndentationError\u001b[0m\u001b[1;31m:\u001b[0m unexpected indent\n"
     ]
    }
   ],
   "source": [
    "erDiagram\n",
    "\n",
    "\n",
    "    movie {\n",
    "        TEXT name PK\n",
    "        TEXT director\n",
    "        TEXT country FK\n",
    "        INTEGER year\n",
    "        REAL rating\n",
    "\n",
    "    }\n",
    "\n",
    "    l_country {\n",
    "        TEXT country PK\n",
    "    }\n",
    "\n",
    "    director {\n",
    "        TEXT name PK\n",
    "        INTEGER year\n",
    "        TEXT country\n",
    "    }\n",
    "\n",
    "    l_genres {\n",
    "        TEXT genre PK\n",
    "    }\n",
    "\n",
    "    movie_genre {\n",
    "        TEXT movie FK\n",
    "        TEXT genre FK\n",
    "    }\n",
    "\n",
    "\n",
    "    movie }|--|| director : \"made by\"\n",
    "    movie }|--|| l_country : runs\n",
    "    movie ||--|{ movie_genre : \"sold in\"\n",
    "    l_genres ||--|{ movie_genre : refers"
   ]
  },
  {
   "cell_type": "code",
   "execution_count": 3,
   "id": "5fa760ff",
   "metadata": {},
   "outputs": [],
   "source": [
    "from enum import Enum\n",
    "class Country(Enum):\n",
    "    UA = 'Ukraine'\n",
    "    US = 'United States'\n",
    "    DE = 'Germany'\n",
    "    BR = 'Brazil'\n",
    "    IN = 'India'\n",
    "\n",
    "    @classmethod\n",
    "    def valueTuples(self):\n",
    "        \"\"\"Get a list of all values in an enum.\n",
    "        Note that we wrap values in single-element tuples (el,)\n",
    "        so that to feed it into 'INSERT' statement.\n",
    "        \"\"\"\n",
    "        return [(e.value,) for e in Country]\n",
    "\n",
    "    @classmethod\n",
    "    def createTable(self):\n",
    "        \"\"\"This function does two things. First, creates a l_platforms table.\n",
    "        Second, insert predefined values into the table. This is where we use\n",
    "        the valueTuples method from above.\n",
    "        Note the con.commit() call - it's necessary whenever we make changes to a table\n",
    "        \"\"\" \n",
    "        cur.execute('CREATE TABLE IF NOT EXISTS l_country (platform TEXT PRIMARY KEY)')\n",
    "        # Invoke executemany to insert multiple values at once\n",
    "        cur.executemany('INSERT INTO l_country VALUES(?)', Country.valueTuples())\n",
    "        con.commit()\n",
    "\n",
    "    @classmethod\n",
    "    def removeTable(self):\n",
    "        \"\"\"Method for dropping a table. Useful for debugging.\n",
    "        \"\"\"\n",
    "        cur.execute('DROP TABLE IF EXISTS l_country')\n",
    "        con.commit()\n",
    "        \n",
    "    @classmethod\n",
    "    def getAll(self):\n",
    "        \"\"\"Fetch all records from l_platforms table.\n",
    "        Note that we convert result tuples back to strings - \n",
    "        it's a reverse operation to the one we did in valueTuples() method.\n",
    "        \"\"\"\n",
    "        cur.execute('SELECT * FROM l_country')\n",
    "        sqlResult = cur.fetchall()\n",
    "        # Convert tuples in sqlResult to strings and then to enums\n",
    "        return [Country(p[0]) for p in sqlResult]"
   ]
  },
  {
   "cell_type": "code",
   "execution_count": 4,
   "id": "334a5641",
   "metadata": {},
   "outputs": [
    {
     "data": {
      "text/plain": [
       "[<Country.UA: 'Ukraine'>,\n",
       " <Country.US: 'United States'>,\n",
       " <Country.DE: 'Germany'>,\n",
       " <Country.BR: 'Brazil'>,\n",
       " <Country.IN: 'India'>]"
      ]
     },
     "execution_count": 4,
     "metadata": {},
     "output_type": "execute_result"
    }
   ],
   "source": [
    "Country.removeTable()\n",
    "Country.createTable()\n",
    "Country.getAll()"
   ]
  },
  {
   "cell_type": "code",
   "execution_count": 5,
   "id": "05338d5f",
   "metadata": {},
   "outputs": [],
   "source": [
    "class Genre(Enum):\n",
    "    comedy = 'Comedy'\n",
    "    horror = 'Horror'\n",
    "    thriller = 'Thriller'\n",
    "    fantasy = 'Fantasy'\n",
    "    science_fiction = 'Science fiction'\n",
    "\n",
    "    @classmethod\n",
    "    def valueTuples(self):\n",
    "        \"\"\"Get a list of all values in an enum.\n",
    "        Note that we wrap values in single-element tuples (el,)\n",
    "        so that to feed it into 'INSERT' statement.\n",
    "        \"\"\"\n",
    "        return [(e.value,) for e in Genre]\n",
    "\n",
    "    @classmethod\n",
    "    def createTable(self):\n",
    "        \"\"\"This function does two things. First, creates a l_markets table.\n",
    "        Second, insert predefined values into the table. This is where we use\n",
    "        the valueTuples method from above.\n",
    "        Note the con.commit() call - it's necessary whenever we make changes to a table\n",
    "        \"\"\" \n",
    "        cur.execute('CREATE TABLE IF NOT EXISTS l_genres (genre text)')\n",
    "        cur.executemany('INSERT INTO l_genres VALUES(?)', Genre.valueTuples())\n",
    "        con.commit()\n",
    "\n",
    "    @classmethod\n",
    "    def removeTable(self):\n",
    "        \"\"\"Method for dropping a table. Useful for debugging.\n",
    "        \"\"\"\n",
    "        cur.execute('DROP TABLE IF EXISTS l_genres')\n",
    "        con.commit()\n",
    "        \n",
    "    @classmethod\n",
    "    def getAll(self):\n",
    "        \"\"\"Fetch all records from l_markets table.\n",
    "        Note that we convert result tuples back to strings - \n",
    "        it's a reverse operation to the one we did in valueTuples() method.\n",
    "        \"\"\"\n",
    "        cur.execute('SELECT * FROM l_genres')\n",
    "        sqlResult = cur.fetchall()\n",
    "        # Convert tuples in sqlResult to strings and then to enums\n",
    "        return [Genre(p[0]) for p in sqlResult]"
   ]
  },
  {
   "cell_type": "code",
   "execution_count": 6,
   "id": "18a16753",
   "metadata": {},
   "outputs": [
    {
     "data": {
      "text/plain": [
       "[<Genre.comedy: 'Comedy'>,\n",
       " <Genre.horror: 'Horror'>,\n",
       " <Genre.thriller: 'Thriller'>,\n",
       " <Genre.fantasy: 'Fantasy'>,\n",
       " <Genre.science_fiction: 'Science fiction'>]"
      ]
     },
     "execution_count": 6,
     "metadata": {},
     "output_type": "execute_result"
    }
   ],
   "source": [
    "Genre.removeTable()\n",
    "Genre.createTable()\n",
    "Genre.getAll()"
   ]
  },
  {
   "cell_type": "code",
   "execution_count": 7,
   "id": "38f14bd5",
   "metadata": {},
   "outputs": [],
   "source": [
    "def createGenreMapping():\n",
    "    cur.execute('''CREATE TABLE MOVIE_GENRE (\n",
    "                    movie text,\n",
    "                    genre text,\n",
    "                    PRIMARY KEY(movie, genre),\n",
    "                    FOREIGN KEY(movie) REFERENCES movies(name),\n",
    "                    FOREIGN KEY(genre) REFERENCES l_genres(genre))''')\n",
    "    con.commit()"
   ]
  },
  {
   "cell_type": "code",
   "execution_count": 8,
   "id": "4ee008ca",
   "metadata": {},
   "outputs": [],
   "source": [
    "createGenreMapping()"
   ]
  },
  {
   "cell_type": "code",
   "execution_count": 9,
   "id": "1f465fb0",
   "metadata": {},
   "outputs": [],
   "source": [
    "class Movie:\n",
    "    def __init__(self, name, director, country, year, rating, genres):\n",
    "        self.name = name\n",
    "        self.director = director\n",
    "        self.country = country\n",
    "        self.year = year\n",
    "        self.rating = rating\n",
    "        self.genres = genres\n",
    "\n",
    "    @classmethod\n",
    "    def createTable(self):\n",
    "        \"\"\"There is 1-to-1 mapping between phone and its platform,\n",
    "        therefore we add a FOREIGN KEY to phones table\n",
    "        \"\"\"\n",
    "        cur.execute('''CREATE TABLE movies (\n",
    "                        name text PRIMARY KEY,\n",
    "                        director text,\n",
    "                        country text,\n",
    "                        year integer,\n",
    "                        rating REAL,\n",
    "                        FOREIGN KEY(country) REFERENCES l_country(country))''')\n",
    "        con.commit()\n",
    "\n",
    "    def insert(self):\n",
    "        \"\"\"There is 1-to-many mapping between phones and markets,\n",
    "        therefore we have to insert relevant into the above-mentioned phone_market link table\n",
    "        \"\"\"\n",
    "        cur.execute('''INSERT INTO movies VALUES(?,?,?,?, ?)''', (self.name, self.director, self.country, self.year, self.rating))\n",
    "        # In the list comprehension below, we duplicate phone name, only markets are different\n",
    "        cur.executemany('''INSERT INTO movie_genre VALUES(?,?)''', [(self.name, m.value) for m in self.genres])\n",
    "        con.commit()\n",
    "\n",
    "    def update(self):\n",
    "        cur.execute('UPDATE movies SET rating=? WHERE name=?', self.rating, self.name)\n",
    "\n",
    "    @classmethod\n",
    "    def get(self, name):\n",
    "        \"\"\"This query uses a LEFT JOIN and an aggregate function string_agg \n",
    "        to fetch markets for a phone.\n",
    "        \"\"\"\n",
    "        cur.execute('''SELECT p.director, p.country, p.year, p.rating, group_concat(pm.genre, ',') FROM movies p\n",
    "                    LEFT JOIN movie_genre pm ON p.name = pm.movie\n",
    "                    WHERE p.name=?''', (name,))\n",
    "        res = cur.fetchone()\n",
    "        return Movie(name, res[0], res[1], res[2], res[3], res[4])\n",
    "\n",
    "    def __str__(self):\n",
    "        return \"(%s, %s, %s, %s, %s, %s)\" % (self.name, self.director, self.country, self.year, self.rating, self.genres)"
   ]
  },
  {
   "cell_type": "code",
   "execution_count": 10,
   "id": "7eca4f2f",
   "metadata": {},
   "outputs": [],
   "source": [
    "Movie.createTable()"
   ]
  },
  {
   "cell_type": "code",
   "execution_count": 11,
   "id": "3b2b784c",
   "metadata": {},
   "outputs": [],
   "source": [
    "movie1 = Movie('Alien: Covenant', 'Ridley Scott', 'USA', 2017, 6.4, {Genre.horror})\n",
    "movie2 = Movie('Prometheus', 'Ridley Scott', 'USA', 2012, 7.1, {Genre.science_fiction})\n",
    "movie3 = Movie('Joker', 'Todd Phillips', 'USA', 2019, 8.4, {Genre.thriller})\n",
    "\n",
    "movie1.insert()\n",
    "movie2.insert()\n",
    "movie3.insert()"
   ]
  },
  {
   "cell_type": "code",
   "execution_count": 12,
   "id": "c42f3204",
   "metadata": {},
   "outputs": [
    {
     "name": "stdout",
     "output_type": "stream",
     "text": [
      "(Prometheus, Ridley Scott, USA, 2012, 7.1, Science fiction)\n"
     ]
    }
   ],
   "source": [
    "print(Movie.get('Prometheus'))"
   ]
  },
  {
   "cell_type": "code",
   "execution_count": 13,
   "id": "10280484",
   "metadata": {},
   "outputs": [],
   "source": [
    "class Director:\n",
    "    def __init__(self, name, year, country):\n",
    "        self.name = name\n",
    "        self.year = year\n",
    "        self.country = country\n",
    "\n",
    "    @classmethod\n",
    "    def createTable(self):\n",
    "        cur.execute('''CREATE TABLE IF NOT EXISTS directors (\n",
    "                        name TEXT PRIMARY KEY,\n",
    "                        year INTEGER,\n",
    "                        country TEXT)''')\n",
    "        con.commit()\n",
    "\n",
    "    @classmethod\n",
    "    def removeTable(self):\n",
    "        cur.execute('DROP TABLE IF EXISTS directors')\n",
    "        con.commit()\n",
    "\n",
    "    def insert(self):\n",
    "        cur.execute('''INSERT INTO directors VALUES(?,?,?)''', (self.name, self.year, self.country))\n",
    "        con.commit()\n",
    "\n",
    "    def update(self):\n",
    "        cur.execute('''UPDATE directors SET country=? WHERE name=?''', (self.year, self.name))\n",
    "        con.commit() \n",
    "\n",
    "    @classmethod\n",
    "    def get(self, name):\n",
    "        cur.execute('SELECT year, country FROM directors WHERE name=?', (name,))\n",
    "        res = cur.fetchone()\n",
    "        return Director(name, res[0], res[1])\n",
    "\n",
    "    @classmethod\n",
    "    def getAll(self):\n",
    "        cur.execute('SELECT name, year, country FROM directors')\n",
    "        res = cur.fetchall()\n",
    "        return [Director(el[0], el[1], el[2]) for el in res]\n",
    "\n",
    "    def __str__(self):\n",
    "        return \"(%s, %s, %s)\" % (self.name, self.year, self.country)"
   ]
  },
  {
   "cell_type": "code",
   "execution_count": 14,
   "id": "703fe5de",
   "metadata": {},
   "outputs": [
    {
     "data": {
      "text/plain": [
       "[]"
      ]
     },
     "execution_count": 14,
     "metadata": {},
     "output_type": "execute_result"
    }
   ],
   "source": [
    "Director.removeTable()\n",
    "Director.createTable()\n",
    "Director.getAll()"
   ]
  },
  {
   "cell_type": "code",
   "execution_count": 15,
   "id": "885f7351",
   "metadata": {},
   "outputs": [],
   "source": [
    "director1 = Director('Ridley Scott', 1937, 'USA')\n",
    "director2 = Director('Todd Phillips', 1970, 'USA')\n",
    "director3 = Director('Stanley Kubrick', 1928, 'USA')\n",
    "\n",
    "director1.insert()\n",
    "director2.insert()\n",
    "director3.insert()"
   ]
  },
  {
   "cell_type": "code",
   "execution_count": 16,
   "id": "1cc393fc",
   "metadata": {},
   "outputs": [
    {
     "name": "stdout",
     "output_type": "stream",
     "text": [
      "(Ridley Scott, 1937, USA)\n"
     ]
    }
   ],
   "source": [
    "directorFromDb = Director.get('Ridley Scott')\n",
    "print(directorFromDb)"
   ]
  },
  {
   "cell_type": "code",
   "execution_count": 17,
   "id": "1a666af7",
   "metadata": {},
   "outputs": [
    {
     "name": "stdout",
     "output_type": "stream",
     "text": [
      "(Ridley Scott, 1937, USA)\n",
      "(Todd Phillips, 1970, USA)\n",
      "(Stanley Kubrick, 1928, USA)\n"
     ]
    },
    {
     "data": {
      "text/plain": [
       "[None, None, None]"
      ]
     },
     "execution_count": 17,
     "metadata": {},
     "output_type": "execute_result"
    }
   ],
   "source": [
    "[print(e) for e in Director.getAll()]"
   ]
  },
  {
   "cell_type": "code",
   "execution_count": null,
   "id": "363ab6a4",
   "metadata": {},
   "outputs": [],
   "source": []
  }
 ],
 "metadata": {
  "kernelspec": {
   "display_name": "Python 3 (ipykernel)",
   "language": "python",
   "name": "python3"
  },
  "language_info": {
   "codemirror_mode": {
    "name": "ipython",
    "version": 3
   },
   "file_extension": ".py",
   "mimetype": "text/x-python",
   "name": "python",
   "nbconvert_exporter": "python",
   "pygments_lexer": "ipython3",
   "version": "3.11.7"
  }
 },
 "nbformat": 4,
 "nbformat_minor": 5
}
